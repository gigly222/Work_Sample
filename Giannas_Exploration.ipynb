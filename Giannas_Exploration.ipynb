{
 "cells": [
  {
   "cell_type": "markdown",
   "metadata": {},
   "source": [
    "## Gianna's Exploration\n",
    "### Determine Group Access Based On Usage Patterns"
   ]
  },
  {
   "cell_type": "code",
   "execution_count": 1,
   "metadata": {},
   "outputs": [
    {
     "name": "stdout",
     "output_type": "stream",
     "text": [
      "Requirement already satisfied: googledrivedownloader in /opt/conda/lib/python3.7/site-packages (0.4)\n"
     ]
    },
    {
     "name": "stderr",
     "output_type": "stream",
     "text": [
      "/opt/conda/lib/python3.7/site-packages/pandas/compat/_optional.py:138: UserWarning: Pandas requires version '2.7.0' or newer of 'numexpr' (version '2.6.9' currently installed).\n",
      "  warnings.warn(msg, UserWarning)\n"
     ]
    }
   ],
   "source": [
    "# For Downloading Data\n",
    "!pip install googledrivedownloader\n",
    "\n",
    "import os\n",
    "import glob\n",
    "import pandas as pd\n",
    "import matplotlib.pyplot as plt\n",
    "\n",
    "import numpy as np\n",
    "import sklearn\n",
    "from zipfile import ZipFile\n",
    "from google_drive_downloader import GoogleDriveDownloader as gdd\n",
    "import datetime\n",
    "from tqdm.notebook import tqdm"
   ]
  },
  {
   "cell_type": "markdown",
   "metadata": {},
   "source": [
    "#### Reading in google drive data"
   ]
  },
  {
   "cell_type": "code",
   "execution_count": 2,
   "metadata": {},
   "outputs": [],
   "source": [
    "gdd.download_file_from_google_drive(file_id='1mIntdxoLWTbecLqILzMBQybsdNhjq3LM',\n",
    "                                    dest_path='./data.zip',\n",
    "                                    unzip=True)"
   ]
  },
  {
   "cell_type": "code",
   "execution_count": 3,
   "metadata": {},
   "outputs": [],
   "source": [
    "#all_filenames = [i for i in glob.glob('*.{}'.format(extension))]\n",
    "all_filenames = [i for i in glob.glob('./data/*')]"
   ]
  },
  {
   "cell_type": "code",
   "execution_count": null,
   "metadata": {},
   "outputs": [],
   "source": [
    "%%time\n",
    "csvs = [pd.read_csv(f) for f in all_filenames[:4]]\n",
    "csvs_df = pd.concat(csvs); csvs_df.shape"
   ]
  },
  {
   "cell_type": "code",
   "execution_count": null,
   "metadata": {},
   "outputs": [],
   "source": [
    "csvs_df.sample(5)"
   ]
  },
  {
   "cell_type": "code",
   "execution_count": null,
   "metadata": {},
   "outputs": [],
   "source": [
    "# read in appclass mappings\n",
    "app_2_class = pd.read_csv('app2appclass.csv')\n",
    "app_2_class.head()"
   ]
  },
  {
   "cell_type": "code",
   "execution_count": null,
   "metadata": {},
   "outputs": [],
   "source": [
    "app_2_class.appclass.nunique()"
   ]
  },
  {
   "cell_type": "code",
   "execution_count": null,
   "metadata": {},
   "outputs": [],
   "source": [
    "app_2_class.appclass.value_counts()"
   ]
  },
  {
   "cell_type": "code",
   "execution_count": null,
   "metadata": {},
   "outputs": [],
   "source": [
    "app_2_class_dict = app_2_class.set_index('application')['appclass'].to_dict()"
   ]
  },
  {
   "cell_type": "code",
   "execution_count": null,
   "metadata": {},
   "outputs": [],
   "source": [
    "csvs_df['appclass'] = csvs_df['application'].map(app_2_class_dict)\n",
    "csvs_df.sample(5)"
   ]
  },
  {
   "cell_type": "code",
   "execution_count": null,
   "metadata": {},
   "outputs": [],
   "source": [
    "# Rename f0_ column to something readable\n",
    "csvs_df.rename(columns={\"f0_\": \"date\"}, inplace = True)"
   ]
  },
  {
   "cell_type": "code",
   "execution_count": null,
   "metadata": {},
   "outputs": [],
   "source": [
    "# filter for users that have 3 months of data at least (\"its okay to drop those users\")"
   ]
  },
  {
   "cell_type": "code",
   "execution_count": null,
   "metadata": {},
   "outputs": [],
   "source": [
    "csvs_df.userid.nunique()"
   ]
  },
  {
   "cell_type": "code",
   "execution_count": null,
   "metadata": {},
   "outputs": [],
   "source": [
    "csvs_df.shape[0]/csvs_df.userid.nunique()"
   ]
  },
  {
   "cell_type": "code",
   "execution_count": null,
   "metadata": {},
   "outputs": [],
   "source": [
    "csvs_df['userid'].value_counts().hist(bins=25)"
   ]
  },
  {
   "cell_type": "code",
   "execution_count": null,
   "metadata": {},
   "outputs": [],
   "source": [
    "csvs_df.head()"
   ]
  },
  {
   "cell_type": "code",
   "execution_count": null,
   "metadata": {},
   "outputs": [],
   "source": [
    "date_min = csvs_df.date.min()\n",
    "date_min"
   ]
  },
  {
   "cell_type": "code",
   "execution_count": null,
   "metadata": {},
   "outputs": [],
   "source": [
    "date_max = csvs_df.date.max()\n",
    "date_max"
   ]
  },
  {
   "cell_type": "markdown",
   "metadata": {},
   "source": [
    "### Lets take a look at what we have in the first 4 files - containing a date range of '2020-09-02' to '2020-11-30'"
   ]
  },
  {
   "cell_type": "code",
   "execution_count": null,
   "metadata": {},
   "outputs": [],
   "source": [
    "# Total user count per app class over whole time frame loaded in the file - > unique_user_count\n",
    "# Average bussiness application a user acceses over the time frame of three months \n",
    "dl_up_counts_df = csvs_df.groupby('appclass')['download_tx_cnt','upload_tx_cnt'].sum()\n",
    "dl_up_counts_df['unique_user_count'] = csvs_df.groupby('appclass')['userid'].nunique()"
   ]
  },
  {
   "cell_type": "code",
   "execution_count": null,
   "metadata": {},
   "outputs": [],
   "source": [
    "# each classes download and upload count. Upload to download ratio\n",
    "dl_up_counts_df['avg_dl_user'] = dl_up_counts_df['download_tx_cnt']/dl_up_counts_df['unique_user_count']\n",
    "dl_up_counts_df['avg_ul_user'] = dl_up_counts_df['upload_tx_cnt']/dl_up_counts_df['unique_user_count']\n",
    "dl_up_counts_df['ul_to_dl_ratio'] = dl_up_counts_df['upload_tx_cnt']/dl_up_counts_df['download_tx_cnt']"
   ]
  },
  {
   "cell_type": "code",
   "execution_count": null,
   "metadata": {},
   "outputs": [],
   "source": [
    "# each classes percentage of upload and download traffic, plus total traffic.\n",
    "dl_up_counts_df['percent_of_dl_traffic'] = dl_up_counts_df.groupby('appclass')['download_tx_cnt'].apply(lambda x : round((x / dl_up_counts_df['download_tx_cnt'].sum()) * 100,3))\n",
    "dl_up_counts_df['percent_of_ul_traffic'] = dl_up_counts_df.groupby('appclass')['upload_tx_cnt'].apply(lambda x : round((x / dl_up_counts_df['upload_tx_cnt'].sum()) * 100,3))\n",
    "dl_up_counts_df['percent_of_total_traffic'] = dl_up_counts_df.groupby('appclass')[['download_tx_cnt','upload_tx_cnt']].apply(lambda x : round((x['download_tx_cnt'][0] +  x['upload_tx_cnt'][0])/(dl_up_counts_df['download_tx_cnt'].sum()+dl_up_counts_df['upload_tx_cnt'].sum())*100,3))"
   ]
  },
  {
   "cell_type": "code",
   "execution_count": null,
   "metadata": {},
   "outputs": [],
   "source": [
    "# of users that went to one of the app classes, how many unique applications did they go to?\n",
    "unique_apps_df = csvs_df.groupby(['userid','appclass'])['application'].nunique().reset_index()\n",
    "dl_up_counts_df['average_unique_apps_per_user'] = unique_apps_df[['appclass', 'application']].groupby('appclass').mean();"
   ]
  },
  {
   "cell_type": "code",
   "execution_count": null,
   "metadata": {},
   "outputs": [],
   "source": [
    "# How many unique users visit each of the application clases\n",
    "dl_up_counts_df['perct_users'] = round((dl_up_counts_df['unique_user_count']/csvs_df.userid.nunique()*100),3)"
   ]
  },
  {
   "cell_type": "markdown",
   "metadata": {},
   "source": [
    "### What are we looking at:\n",
    "*  \"General Browsing\" accounts for about 50% of all traffic. It has the most uploads and downlods by a lot.\n",
    "*  \"P2P\", \"Image Host\", and \"Tunnel\" are very rare events.\n",
    "*  Most users is \"General Browsing\", \"Enterprise\", \"WebSearch\", \"Webmail, \"Business\", \"IT Services\"....All about 95% of users. There are some close runner ups too. "
   ]
  },
  {
   "cell_type": "code",
   "execution_count": null,
   "metadata": {},
   "outputs": [],
   "source": [
    "dl_up_counts_df.sort_values(by = 'percent_of_total_traffic', ascending = False)"
   ]
  }
 ],
 "metadata": {
  "kernelspec": {
   "display_name": "Python 3 (ipykernel)",
   "language": "python",
   "name": "python3"
  },
  "language_info": {
   "codemirror_mode": {
    "name": "ipython",
    "version": 3
   },
   "file_extension": ".py",
   "mimetype": "text/x-python",
   "name": "python",
   "nbconvert_exporter": "python",
   "pygments_lexer": "ipython3",
   "version": "3.7.8"
  }
 },
 "nbformat": 4,
 "nbformat_minor": 4
}
